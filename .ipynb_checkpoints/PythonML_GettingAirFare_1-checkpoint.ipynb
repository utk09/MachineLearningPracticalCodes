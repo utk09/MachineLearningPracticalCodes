{
 "cells": [
  {
   "cell_type": "code",
   "execution_count": 1,
   "metadata": {},
   "outputs": [],
   "source": [
    "import numpy as np\n",
    "import pandas as pd"
   ]
  },
  {
   "cell_type": "code",
   "execution_count": 2,
   "metadata": {},
   "outputs": [],
   "source": [
    "from selenium import webdriver\n",
    "from selenium.webdriver.common.desired_capabilities import DesiredCapabilities"
   ]
  },
  {
   "cell_type": "code",
   "execution_count": 3,
   "metadata": {},
   "outputs": [],
   "source": [
    "from bs4 import BeautifulSoup"
   ]
  },
  {
   "cell_type": "code",
   "execution_count": 4,
   "metadata": {},
   "outputs": [],
   "source": [
    "import matplotlib.pyplot as plt"
   ]
  },
  {
   "cell_type": "code",
   "execution_count": 18,
   "metadata": {},
   "outputs": [
    {
     "name": "stdout",
     "output_type": "stream",
     "text": [
      "Current URL-  https://www.google.com/flights?hl=en#flt=/m/02_286.r/m/02j9z.2019-03-08*r/m/02j9z./m/02_286.2019-03-12;c:INR;e:1;ls:1w;sd:1;t:e\n"
     ]
    }
   ],
   "source": [
    "url = \"https://www.google.com/flights?hl=en#flt=/m/02_286.r/m/02j9z.2019-03-08*r/m/02j9z./m/02_286.2019-03-12;c:INR;e:1;ls:1w;sd:1;t:e\"\n",
    "\n",
    "# prepare the option for the chrome driver\n",
    "options = webdriver.ChromeOptions()\n",
    "options.add_argument('headless')\n",
    "\n",
    "# start chrome browser\n",
    "driver = webdriver.Chrome()\n",
    "dcap = dict(DesiredCapabilities.CHROME)\n",
    "dcap[\"chrome.page.settings.userAgent\"] = (\"Mozilla/5.0 (Windows NT 10.0; Win64; x64) AppleWebKit/537.36 (KHTML, like Gecko) Chrome/71.0.3578.98 Safari/537.36\")\n",
    "driver = webdriver.Chrome(desired_capabilities = dcap, service_args = ['--ignore-ssl-errors=true'])\n",
    "driver.implicitly_wait(30)\n",
    "driver.get(url)\n",
    "print(\"Current URL- \",driver.current_url)\n",
    "# driver.quit()\n",
    "\n",
    "\n",
    "\n",
    "#driver = webdriver.PhantomJS(executable_path=r'E:\\chromedriver_win32\\chromedriver.exe')\n",
    "#dcap = dict(DesiredCapabilities.PHANTOMJS)\n",
    "#dcap[\"phantomjs.page.settings.userAgent\"] = (\"Mozilla/5.0 (Windows NT 10.0; Win64; x64) AppleWebKit/537.36 (KHTML, like Gecko) Chrome/71.0.3578.98 Safari/537.36\")\n",
    "#driver = webdriver.PhantomJs(desired_capabilities = dcap, service_args = ['--ignore-ssl-errors=true'])\n",
    "#driver.implicitly_wait(20)\n",
    "#driver.get(url)"
   ]
  },
  {
   "cell_type": "markdown",
   "metadata": {},
   "source": [
    "#### Pro-tip: Save \"chromedriver.exe\" in Python(version_name)/Scripts folder\n",
    "#### If it is Anaconda, then \"envs/myenvname/Scripts\" folder"
   ]
  },
  {
   "cell_type": "code",
   "execution_count": 19,
   "metadata": {},
   "outputs": [
    {
     "data": {
      "text/plain": [
       "True"
      ]
     },
     "execution_count": 19,
     "metadata": {},
     "output_type": "execute_result"
    }
   ],
   "source": [
    "driver.save_screenshot(r'flight_explorer_image.png')"
   ]
  },
  {
   "cell_type": "code",
   "execution_count": null,
   "metadata": {},
   "outputs": [],
   "source": []
  }
 ],
 "metadata": {
  "kernelspec": {
   "display_name": "Python 3",
   "language": "python",
   "name": "python3"
  },
  "language_info": {
   "codemirror_mode": {
    "name": "ipython",
    "version": 3
   },
   "file_extension": ".py",
   "mimetype": "text/x-python",
   "name": "python",
   "nbconvert_exporter": "python",
   "pygments_lexer": "ipython3",
   "version": "3.6.7"
  }
 },
 "nbformat": 4,
 "nbformat_minor": 2
}
